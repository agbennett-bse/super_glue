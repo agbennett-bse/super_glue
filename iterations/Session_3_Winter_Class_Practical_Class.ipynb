{
  "cells": [
    {
      "cell_type": "code",
      "execution_count": null,
      "metadata": {
        "id": "1ndS1SkXS_Ic"
      },
      "outputs": [],
      "source": [
        "!pip install pandas openai tqdm tenacity scikit-learn tiktoken python-dotenv seaborn --upgrade --quiet"
      ]
    },
    {
      "cell_type": "markdown",
      "metadata": {
        "id": "SoUyw-pWS_Id"
      },
      "source": [
        "## Packages"
      ]
    },
    {
      "cell_type": "code",
      "execution_count": null,
      "metadata": {
        "id": "vpdPGaPLS_If"
      },
      "outputs": [],
      "source": [
        "import json\n",
        "import os\n",
        "import time\n",
        "\n",
        "import pandas as pd\n",
        "from openai import OpenAI\n",
        "import seaborn as sns\n",
        "from tenacity import retry, wait_exponential\n",
        "from tqdm import tqdm\n",
        "import numpy as np\n",
        "\n",
        "import warnings\n",
        "warnings.filterwarnings('ignore')\n",
        "\n",
        "tqdm.pandas()\n",
        "\n",
        "\n",
        "client = OpenAI(api_key=os.environ[\"OPENAI_API_KEY\"])"
      ]
    },
    {
      "cell_type": "markdown",
      "metadata": {
        "id": "Q1OZq4kDS_Ig"
      },
      "source": [
        "## Download Data"
      ]
    },
    {
      "cell_type": "code",
      "execution_count": null,
      "metadata": {
        "id": "XKSzrWRsS_Ih",
        "outputId": "27713eac-b403-422b-96af-17fe22548a7a"
      },
      "outputs": [
        {
          "name": "stdout",
          "output_type": "stream",
          "text": [
            "--2024-03-10 19:42:42--  https://rajpurkar.github.io/SQuAD-explorer/dataset/train-v2.0.json\n",
            "Résolution de rajpurkar.github.io (rajpurkar.github.io)… 185.199.109.153, 185.199.110.153, 185.199.111.153, ...\n",
            "Connexion à rajpurkar.github.io (rajpurkar.github.io)|185.199.109.153|:443… connecté.\n",
            "requête HTTP transmise, en attente de la réponse… 200 OK\n",
            "Taille : 42123633 (40M) [application/json]\n",
            "Sauvegarde en : « data/train.json »\n",
            "\n",
            "data/train.json     100%[===================>]  40,17M  3,41MB/s    ds 14s     \n",
            "\n",
            "2024-03-10 19:42:56 (2,84 MB/s) — « data/train.json » sauvegardé [42123633/42123633]\n",
            "\n",
            "--2024-03-10 19:42:56--  https://rajpurkar.github.io/SQuAD-explorer/dataset/dev-v2.0.json\n",
            "Résolution de rajpurkar.github.io (rajpurkar.github.io)… 185.199.110.153, 185.199.111.153, 185.199.108.153, ...\n",
            "Connexion à rajpurkar.github.io (rajpurkar.github.io)|185.199.110.153|:443… connecté.\n",
            "requête HTTP transmise, en attente de la réponse… 200 OK\n",
            "Taille : 4370528 (4,2M) [application/json]\n",
            "Sauvegarde en : « data/dev.json »\n",
            "\n",
            "data/dev.json       100%[===================>]   4,17M  3,03MB/s    ds 1,4s    \n",
            "\n",
            "2024-03-10 19:42:58 (3,03 MB/s) — « data/dev.json » sauvegardé [4370528/4370528]\n",
            "\n"
          ]
        }
      ],
      "source": [
        "!wget https://rajpurkar.github.io/SQuAD-explorer/dataset/train-v2.0.json -O data/train.json\n",
        "!wget https://rajpurkar.github.io/SQuAD-explorer/dataset/dev-v2.0.json -O data/dev.json"
      ]
    },
    {
      "cell_type": "markdown",
      "metadata": {
        "id": "pcsVQKMGS_Ih"
      },
      "source": [
        "### Read json to DataFrame"
      ]
    },
    {
      "cell_type": "code",
      "execution_count": null,
      "metadata": {
        "id": "lCO1jhyzS_Ih",
        "outputId": "84fdfbed-9c0f-41de-cc74-132c392fc09b"
      },
      "outputs": [
        {
          "data": {
            "text/html": [
              "<div>\n",
              "<style scoped>\n",
              "    .dataframe tbody tr th:only-of-type {\n",
              "        vertical-align: middle;\n",
              "    }\n",
              "\n",
              "    .dataframe tbody tr th {\n",
              "        vertical-align: top;\n",
              "    }\n",
              "\n",
              "    .dataframe thead th {\n",
              "        text-align: right;\n",
              "    }\n",
              "</style>\n",
              "<table border=\"1\" class=\"dataframe\">\n",
              "  <thead>\n",
              "    <tr style=\"text-align: right;\">\n",
              "      <th></th>\n",
              "      <th>title</th>\n",
              "      <th>question</th>\n",
              "      <th>context</th>\n",
              "      <th>is_impossible</th>\n",
              "      <th>answers</th>\n",
              "    </tr>\n",
              "  </thead>\n",
              "  <tbody>\n",
              "    <tr>\n",
              "      <th>0</th>\n",
              "      <td>Scottish_Parliament</td>\n",
              "      <td>What consequence of establishing the Scottish ...</td>\n",
              "      <td>A procedural consequence of the establishment ...</td>\n",
              "      <td>False</td>\n",
              "      <td>[able to vote on domestic legislation that app...</td>\n",
              "    </tr>\n",
              "    <tr>\n",
              "      <th>1</th>\n",
              "      <td>Imperialism</td>\n",
              "      <td>Imperialism is less often associated with whic...</td>\n",
              "      <td>The principles of imperialism are often genera...</td>\n",
              "      <td>True</td>\n",
              "      <td>[]</td>\n",
              "    </tr>\n",
              "    <tr>\n",
              "      <th>2</th>\n",
              "      <td>Economic_inequality</td>\n",
              "      <td>What issues can't prevent women from working o...</td>\n",
              "      <td>When a person’s capabilities are lowered, they...</td>\n",
              "      <td>True</td>\n",
              "      <td>[]</td>\n",
              "    </tr>\n",
              "    <tr>\n",
              "      <th>3</th>\n",
              "      <td>Southern_California</td>\n",
              "      <td>What county are Los Angeles, Orange, San Diego...</td>\n",
              "      <td>Its counties of Los Angeles, Orange, San Diego...</td>\n",
              "      <td>True</td>\n",
              "      <td>[]</td>\n",
              "    </tr>\n",
              "    <tr>\n",
              "      <th>4</th>\n",
              "      <td>French_and_Indian_War</td>\n",
              "      <td>When was the deportation of Canadians?</td>\n",
              "      <td>Britain gained control of French Canada and Ac...</td>\n",
              "      <td>True</td>\n",
              "      <td>[]</td>\n",
              "    </tr>\n",
              "    <tr>\n",
              "      <th>5</th>\n",
              "      <td>Civil_disobedience</td>\n",
              "      <td>What is a type of disobedience against the fed...</td>\n",
              "      <td>Some forms of civil disobedience, such as ille...</td>\n",
              "      <td>False</td>\n",
              "      <td>[refusals to pay taxes, civil disobedience, re...</td>\n",
              "    </tr>\n",
              "    <tr>\n",
              "      <th>6</th>\n",
              "      <td>Normans</td>\n",
              "      <td>How many customaries does Norman customary law...</td>\n",
              "      <td>The customary law of Normandy was developed be...</td>\n",
              "      <td>False</td>\n",
              "      <td>[two, two, two]</td>\n",
              "    </tr>\n",
              "    <tr>\n",
              "      <th>7</th>\n",
              "      <td>Intergovernmental_Panel_on_Climate_Change</td>\n",
              "      <td>Who led the Science and Environmental Policy P...</td>\n",
              "      <td>These studies were widely presented as demonst...</td>\n",
              "      <td>False</td>\n",
              "      <td>[Fred Singer, Fred Singer, Fred Singer]</td>\n",
              "    </tr>\n",
              "    <tr>\n",
              "      <th>8</th>\n",
              "      <td>Rhine</td>\n",
              "      <td>What is the highest point of the Rhine basin c...</td>\n",
              "      <td>The Rhine emerges from Lake Constance, flows g...</td>\n",
              "      <td>False</td>\n",
              "      <td>[Finsteraarhorn, summit of Finsteraarhorn, Fin...</td>\n",
              "    </tr>\n",
              "    <tr>\n",
              "      <th>9</th>\n",
              "      <td>Scottish_Parliament</td>\n",
              "      <td>Why do the island archipelagos comprise a smal...</td>\n",
              "      <td>Of the 129 MSPs, 73 are elected to represent f...</td>\n",
              "      <td>False</td>\n",
              "      <td>[dispersed population and distance, dispersed ...</td>\n",
              "    </tr>\n",
              "  </tbody>\n",
              "</table>\n",
              "</div>"
            ],
            "text/plain": [
              "                                       title  \\\n",
              "0                        Scottish_Parliament   \n",
              "1                                Imperialism   \n",
              "2                        Economic_inequality   \n",
              "3                        Southern_California   \n",
              "4                      French_and_Indian_War   \n",
              "5                         Civil_disobedience   \n",
              "6                                    Normans   \n",
              "7  Intergovernmental_Panel_on_Climate_Change   \n",
              "8                                      Rhine   \n",
              "9                        Scottish_Parliament   \n",
              "\n",
              "                                            question  \\\n",
              "0  What consequence of establishing the Scottish ...   \n",
              "1  Imperialism is less often associated with whic...   \n",
              "2  What issues can't prevent women from working o...   \n",
              "3  What county are Los Angeles, Orange, San Diego...   \n",
              "4             When was the deportation of Canadians?   \n",
              "5  What is a type of disobedience against the fed...   \n",
              "6  How many customaries does Norman customary law...   \n",
              "7  Who led the Science and Environmental Policy P...   \n",
              "8  What is the highest point of the Rhine basin c...   \n",
              "9  Why do the island archipelagos comprise a smal...   \n",
              "\n",
              "                                             context  is_impossible  \\\n",
              "0  A procedural consequence of the establishment ...          False   \n",
              "1  The principles of imperialism are often genera...           True   \n",
              "2  When a person’s capabilities are lowered, they...           True   \n",
              "3  Its counties of Los Angeles, Orange, San Diego...           True   \n",
              "4  Britain gained control of French Canada and Ac...           True   \n",
              "5  Some forms of civil disobedience, such as ille...          False   \n",
              "6  The customary law of Normandy was developed be...          False   \n",
              "7  These studies were widely presented as demonst...          False   \n",
              "8  The Rhine emerges from Lake Constance, flows g...          False   \n",
              "9  Of the 129 MSPs, 73 are elected to represent f...          False   \n",
              "\n",
              "                                             answers  \n",
              "0  [able to vote on domestic legislation that app...  \n",
              "1                                                 []  \n",
              "2                                                 []  \n",
              "3                                                 []  \n",
              "4                                                 []  \n",
              "5  [refusals to pay taxes, civil disobedience, re...  \n",
              "6                                    [two, two, two]  \n",
              "7            [Fred Singer, Fred Singer, Fred Singer]  \n",
              "8  [Finsteraarhorn, summit of Finsteraarhorn, Fin...  \n",
              "9  [dispersed population and distance, dispersed ...  "
            ]
          },
          "execution_count": 3,
          "metadata": {},
          "output_type": "execute_result"
        }
      ],
      "source": [
        "def json_to_dataframe_with_titles(json_data):\n",
        "    qas = []\n",
        "    context = []\n",
        "    is_impossible = []\n",
        "    answers = []\n",
        "    titles = []\n",
        "\n",
        "    for article in json_data['data']:\n",
        "        title = article['title']\n",
        "        for paragraph in article['paragraphs']:\n",
        "            for qa in paragraph['qas']:\n",
        "                qas.append(qa['question'].strip())\n",
        "                context.append(paragraph['context'])\n",
        "                is_impossible.append(qa['is_impossible'])\n",
        "\n",
        "                ans_list = []\n",
        "                for ans in qa['answers']:\n",
        "                    ans_list.append(ans['text'])\n",
        "                answers.append(ans_list)\n",
        "                titles.append(title)\n",
        "\n",
        "    df = pd.DataFrame({'title': titles,\n",
        "                       'question': qas,\n",
        "                       'context': context,\n",
        "                       'is_impossible': is_impossible,\n",
        "                       'answers': answers})\n",
        "    return df\n",
        "\n",
        "def get_diverse_sample(df, sample_size=100, random_state=42):\n",
        "    \"\"\"\n",
        "    Get a diverse sample of the dataframe by sampling from each title\n",
        "    \"\"\"\n",
        "    sample_df = df.groupby(['title', 'is_impossible']).apply(lambda x: x.sample(min(len(x), max(1, sample_size // 50)), random_state=random_state)).reset_index(drop=True)\n",
        "\n",
        "    if len(sample_df) < sample_size:\n",
        "        remaining_sample_size = sample_size - len(sample_df)\n",
        "        remaining_df = df.drop(sample_df.index).sample(remaining_sample_size, random_state=random_state)\n",
        "        sample_df = pd.concat([sample_df, remaining_df]).sample(frac=1, random_state=random_state).reset_index(drop=True)\n",
        "\n",
        "    return sample_df.sample(min(sample_size, len(sample_df)), random_state=random_state).reset_index(drop=True)\n",
        "\n",
        "train_df = json_to_dataframe_with_titles(json.load(open('data/train.json')))\n",
        "val_df = json_to_dataframe_with_titles(json.load(open('data/dev.json')))\n",
        "\n",
        "df = get_diverse_sample(val_df, sample_size=100, random_state=42)\n",
        "df.head(10)"
      ]
    },
    {
      "cell_type": "markdown",
      "metadata": {
        "id": "Hy2hiD85S_Ii"
      },
      "source": [
        "### Zero Shot Learning"
      ]
    },
    {
      "cell_type": "code",
      "execution_count": null,
      "metadata": {
        "id": "shBIcp5rS_Ij"
      },
      "outputs": [],
      "source": [
        "# Function to get prompt messages\n",
        "def get_prompt(row):\n",
        "    return [\n",
        "        {\"role\": \"system\", \"content\": \"You are a helpful assistant.\"},\n",
        "        {\n",
        "            \"role\": \"user\",\n",
        "            \"content\": f\"\"\"Answer the following Question based on the Context only. Only answer from the Context. If you don't know the answer, say 'I don't know'.\n",
        "    Question: {row.question}\\n\\n\n",
        "    Context: {row.context}\\n\\n\n",
        "    Answer:\\n\"\"\",\n",
        "        },\n",
        "    ]\n",
        "\n",
        "# Function with tenacity for retries\n",
        "@retry(wait=wait_exponential(multiplier=1, min=2, max=6))\n",
        "def api_call(messages, model):\n",
        "    return client.chat.completions.create(\n",
        "        model=model,\n",
        "        messages=messages,\n",
        "        stop=[\"\\n\\n\"],\n",
        "        max_tokens=100,\n",
        "        temperature=0.0,\n",
        "    )\n",
        "\n",
        "def answer_question(row, prompt_func=get_prompt, model=\"gpt-3.5-turbo\"):\n",
        "    messages = prompt_func(row)\n",
        "    response = api_call(messages, model)\n",
        "    return response.choices[0].message.content"
      ]
    },
    {
      "cell_type": "code",
      "execution_count": null,
      "metadata": {
        "id": "vlMSIf12S_Ik",
        "outputId": "49627304-9f40-4695-af17-ddce7ebb6b79"
      },
      "outputs": [
        {
          "name": "stderr",
          "output_type": "stream",
          "text": [
            "100%|██████████| 100/100 [01:24<00:00,  1.19it/s]\n"
          ]
        }
      ],
      "source": [
        "# Use progress_apply with tqdm for progress bar\n",
        "df[\"generated_answer\"] = df.progress_apply(answer_question, axis=1)\n",
        "df.to_json(\"data/100_val.json\", orient=\"records\", lines=True)\n",
        "df = pd.read_json(\"data/100_val.json\", orient=\"records\", lines=True)"
      ]
    },
    {
      "cell_type": "markdown",
      "metadata": {
        "id": "N95_tHKlS_Ik"
      },
      "source": [
        "## Fine Tuning\n",
        "\n",
        "We need to prepare the data for fine-tuning. We'll use a few samples from train split of same dataset as before, but we'll add the answer to the context. This will help the model learn to retrieve the answer from the context.\n",
        "\n",
        "Our instruction prompt is the same as before, and so is the system prompt."
      ]
    },
    {
      "cell_type": "code",
      "execution_count": null,
      "metadata": {
        "id": "iFqkRGcHS_Il"
      },
      "outputs": [],
      "source": [
        "def dataframe_to_jsonl(df):\n",
        "    def create_jsonl_entry(row):\n",
        "        answer = row[\"answers\"][0] if row[\"answers\"] else \"I don't know\"\n",
        "        messages = [\n",
        "            {\"role\": \"system\", \"content\": \"You are a helpful assistant.\"},\n",
        "            {\n",
        "                \"role\": \"user\",\n",
        "                \"content\": f\"\"\"Answer the following Question based on the Context only. Only answer from the Context. If you don't know the answer, say 'I don't know'.\n",
        "            Question: {row.question}\\n\\n\n",
        "            Context: {row.context}\\n\\n\n",
        "            Answer:\\n\"\"\",\n",
        "            },\n",
        "            {\"role\": \"assistant\", \"content\": answer},\n",
        "        ]\n",
        "        return json.dumps({\"messages\": messages})\n",
        "\n",
        "    jsonl_output = df.apply(create_jsonl_entry, axis=1)\n",
        "    return \"\\n\".join(jsonl_output)\n",
        "\n",
        "train_sample = get_diverse_sample(train_df, sample_size=100, random_state=42)\n",
        "\n",
        "with open(\"data/100_train.jsonl\", \"wb\") as f:\n",
        "    f.write(dataframe_to_jsonl(train_sample).encode())"
      ]
    },
    {
      "cell_type": "code",
      "execution_count": null,
      "metadata": {
        "id": "C4120hvpS_Il"
      },
      "outputs": [],
      "source": [
        "class OpenAIFineTuner:\n",
        "    \"\"\"\n",
        "    Class to fine tune OpenAI models\n",
        "    \"\"\"\n",
        "    def __init__(self, training_file_path, model_name, suffix):\n",
        "        self.training_file_path = training_file_path\n",
        "        self.model_name = model_name\n",
        "        self.suffix = suffix\n",
        "        self.file_object = None\n",
        "        self.fine_tuning_job = None\n",
        "        self.model_id = None\n",
        "\n",
        "    def create_openai_file(self):\n",
        "        self.file_object = client.files.create(\n",
        "            file=open(self.training_file_path, \"rb\"),\n",
        "            purpose=\"fine-tune\",\n",
        "        )\n",
        "\n",
        "    def wait_for_file_processing(self, sleep_time=20):\n",
        "        while self.file_object.status != 'processed':\n",
        "            time.sleep(sleep_time)\n",
        "            self.file_object.refresh()\n",
        "            print(\"File Status: \", self.file_object.status)\n",
        "\n",
        "    def create_fine_tuning_job(self):\n",
        "        self.fine_tuning_job = client.fine_tuning.jobs.create(\n",
        "        training_file=self.file_object.id,\n",
        "        model=self.model_name,\n",
        "        suffix=self.suffix,\n",
        "    )\n",
        "\n",
        "    def wait_for_fine_tuning(self, sleep_time=45):\n",
        "        while self.fine_tuning_job.status != 'succeeded':\n",
        "            time.sleep(sleep_time)\n",
        "            self.fine_tuning_job = client.fine_tuning.jobs.retrieve(self.fine_tuning_job.id)\n",
        "            print(\"Job Status: \", self.fine_tuning_job.status)\n",
        "\n",
        "    def retrieve_fine_tuned_model(self):\n",
        "        self.model_id = client.fine_tuning.jobs.retrieve(self.fine_tuning_job.id).fine_tuned_model\n",
        "        return self.model_id\n",
        "\n",
        "    def fine_tune_model(self):\n",
        "        self.create_openai_file()\n",
        "        self.wait_for_file_processing()\n",
        "        self.create_fine_tuning_job()\n",
        "        self.wait_for_fine_tuning()\n",
        "        return self.retrieve_fine_tuned_model()\n",
        "\n",
        "fine_tuner = OpenAIFineTuner(\n",
        "        training_file_path=\"data/100_train.jsonl\",\n",
        "        model_name=\"gpt-3.5-turbo\",\n",
        "        suffix=\"100trn20230907\"\n",
        "    )"
      ]
    },
    {
      "cell_type": "code",
      "execution_count": null,
      "metadata": {
        "id": "yg6BPEjvS_Il",
        "outputId": "8216cf88-67be-41d0-e298-5e68b77361ab"
      },
      "outputs": [
        {
          "data": {
            "text/plain": [
              "'ft:gpt-3.5-turbo-0125:arnault:100trn20230907:91JuXdGg'"
            ]
          },
          "execution_count": 8,
          "metadata": {},
          "output_type": "execute_result"
        }
      ],
      "source": [
        "model_id = fine_tuner.fine_tune_model()\n",
        "model_id #'ft:gpt-3.5-turbo-0125:arnault:100trn20230907:91JuXdGg'"
      ]
    },
    {
      "cell_type": "markdown",
      "metadata": {
        "id": "xmenHwd9S_Im"
      },
      "source": [
        "Let's try out the fine-tuned model on the same validation set as before. You'll use the same prompt as before, but you will use the fine-tuned model instead of the base model. Before you do that, you can make a simple call to get a sense of how the fine-tuned model is doing."
      ]
    },
    {
      "cell_type": "code",
      "execution_count": null,
      "metadata": {
        "id": "GPxZHd3HS_Im",
        "outputId": "ae5fb57f-4b69-4442-e64c-135ae68b4d66"
      },
      "outputs": [
        {
          "name": "stdout",
          "output_type": "stream",
          "text": [
            "ChatCompletionMessage(content=\"I don't know\", role='assistant', function_call=None, tool_calls=None)\n"
          ]
        }
      ],
      "source": [
        "completion = client.chat.completions.create(\n",
        "    model=model_id,\n",
        "    messages=[\n",
        "        {\"role\": \"system\", \"content\": \"You are a helpful assistant.\"},\n",
        "        {\"role\": \"user\", \"content\": \"Hello!\"},\n",
        "        {\"role\": \"assistant\", \"content\": \"Hi, how can I help you today?\"},\n",
        "        {\n",
        "            \"role\": \"user\",\n",
        "            \"content\": \"Can you answer the following question based on the given context? If not, say, I don't know:\\n\\nQuestion: What is the capital of France?\\n\\nContext: The capital of Mars is Gaia. Answer:\",\n",
        "        },\n",
        "    ],\n",
        ")\n",
        "\n",
        "print(completion.choices[0].message)"
      ]
    },
    {
      "cell_type": "code",
      "execution_count": null,
      "metadata": {
        "id": "PUV4YhWCS_In",
        "outputId": "5224ff23-22e5-4ad7-b823-a9b7077d4927"
      },
      "outputs": [
        {
          "name": "stderr",
          "output_type": "stream",
          "text": [
            "  0%|          | 0/100 [00:00<?, ?it/s]"
          ]
        },
        {
          "name": "stderr",
          "output_type": "stream",
          "text": [
            "100%|██████████| 100/100 [00:33<00:00,  3.00it/s]\n"
          ]
        }
      ],
      "source": [
        "df[\"ft_generated_answer\"] = df.progress_apply(answer_question, model=model_id, axis=1)"
      ]
    },
    {
      "cell_type": "markdown",
      "metadata": {
        "id": "7ZqPBePfS_In"
      },
      "source": [
        "## Evaluation: How well does the model perform?\n",
        "\n",
        "To evaluate the model's performance, compare the predicted answer to the actual answers -- if any of the actual answers are present in the predicted answer, then it's a match. We've also created error categories to help you understand where the model is struggling.\n",
        "\n",
        "When we know that a correct answer exists in the context, we can measure the model's performance, there are 3 possible outcomes:\n",
        "\n",
        "- ✅ Answered Correctly: The model responded the correct answer. It may have also included other answers that were not in the context.\n",
        "- ❎ Skipped: The model responded with \"I don't know\" (IDK) while the answer was present in the context. It's better than giving the wrong answer. It's better for the model say \"I don't know\" than giving the wrong answer. In our design, we know that a true answer exists and hence we're able to measure it -- this is not always the case. This is a model error. We exclude this from the overall error rate.\n",
        "- ❌ Wrong: The model responded with an incorrect answer. This is a model ERROR.\n",
        "\n",
        "When we know that a correct answer does not exist in the context, we can measure the model's performance, there are 2 possible outcomes:\n",
        "\n",
        "- ❌ Hallucination: The model responded with an answer, when \"I don't know\" was expected. This is a model ERROR.\n",
        "- ✅ I don't know: The model responded with \"I don't know\" (IDK) and the answer was not present in the context. This is a model WIN.\n"
      ]
    },
    {
      "cell_type": "code",
      "execution_count": null,
      "metadata": {
        "id": "P5eTtFE1S_In"
      },
      "outputs": [],
      "source": [
        "import pandas as pd\n",
        "import seaborn as sns\n",
        "import matplotlib.pyplot as plt\n",
        "\n",
        "class Evaluator:\n",
        "    def __init__(self, df):\n",
        "        self.df = df\n",
        "        self.y_pred = pd.Series()  # Initialize as empty Series\n",
        "        self.labels_answer_expected = [\"✅ Answered Correctly\", \"❎ Skipped\", \"❌ Wrong Answer\"]\n",
        "        self.labels_idk_expected = [\"❌ Hallucination\", \"✅ I don't know\"]\n",
        "\n",
        "    def _evaluate_answer_expected(self, row, answers_column):\n",
        "        generated_answer = row[answers_column].lower()\n",
        "        actual_answers = [ans.lower() for ans in row[\"answers\"]]\n",
        "        return (\n",
        "            \"✅ Answered Correctly\" if any(ans in generated_answer for ans in actual_answers)\n",
        "            else \"❎ Skipped\" if generated_answer == \"i don't know\"\n",
        "            else \"❌ Wrong Answer\"\n",
        "        )\n",
        "\n",
        "    def _evaluate_idk_expected(self, row, answers_column):\n",
        "        generated_answer = row[answers_column].lower()\n",
        "        return (\n",
        "            \"❌ Hallucination\" if generated_answer != \"i don't know\"\n",
        "            else \"✅ I don't know\"\n",
        "        )\n",
        "\n",
        "    def _evaluate_single_row(self, row, answers_column):\n",
        "        is_impossible = row[\"is_impossible\"]\n",
        "        return (\n",
        "            self._evaluate_answer_expected(row, answers_column) if not is_impossible\n",
        "            else self._evaluate_idk_expected(row, answers_column)\n",
        "        )\n",
        "\n",
        "    def evaluate_model(self, answers_column=\"generated_answer\"):\n",
        "        self.y_pred = pd.Series(self.df.apply(self._evaluate_single_row, answers_column=answers_column, axis=1))\n",
        "        freq_series = self.y_pred.value_counts()\n",
        "\n",
        "        # Counting rows for each scenario\n",
        "        total_answer_expected = len(self.df[self.df['is_impossible'] == False])\n",
        "        total_idk_expected = len(self.df[self.df['is_impossible'] == True])\n",
        "\n",
        "        freq_answer_expected = (freq_series / total_answer_expected * 100).round(2).reindex(self.labels_answer_expected, fill_value=0)\n",
        "        freq_idk_expected = (freq_series / total_idk_expected * 100).round(2).reindex(self.labels_idk_expected, fill_value=0)\n",
        "        return freq_answer_expected.to_dict(), freq_idk_expected.to_dict()\n",
        "\n",
        "    def print_eval(self):\n",
        "        answer_columns=[\"generated_answer\", \"ft_generated_answer\"]\n",
        "        baseline_correctness, baseline_idk = self.evaluate_model()\n",
        "        ft_correctness, ft_idk = self.evaluate_model(self.df, answer_columns[1])\n",
        "        print(\"When the model should answer correctly:\")\n",
        "        eval_df = pd.merge(\n",
        "            baseline_correctness.rename(\"Baseline\"),\n",
        "            ft_correctness.rename(\"Fine-Tuned\"),\n",
        "            left_index=True,\n",
        "            right_index=True,\n",
        "        )\n",
        "        print(eval_df)\n",
        "        print(\"\\n\\n\\nWhen the model should say 'I don't know':\")\n",
        "        eval_df = pd.merge(\n",
        "            baseline_idk.rename(\"Baseline\"),\n",
        "            ft_idk.rename(\"Fine-Tuned\"),\n",
        "            left_index=True,\n",
        "            right_index=True,\n",
        "        )\n",
        "        print(eval_df)\n",
        "\n",
        "    def plot_model_comparison(self, answer_columns=[\"generated_answer\", \"ft_generated_answer\"], scenario=\"answer_expected\", nice_names=[\"Baseline\", \"Fine-Tuned\"]):\n",
        "\n",
        "        results = []\n",
        "        for col in answer_columns:\n",
        "            answer_expected, idk_expected = self.evaluate_model(col)\n",
        "            if scenario == \"answer_expected\":\n",
        "                results.append(answer_expected)\n",
        "            elif scenario == \"idk_expected\":\n",
        "                results.append(idk_expected)\n",
        "            else:\n",
        "                raise ValueError(\"Invalid scenario\")\n",
        "\n",
        "\n",
        "        results_df = pd.DataFrame(results, index=nice_names)\n",
        "        if scenario == \"answer_expected\":\n",
        "            results_df = results_df.reindex(self.labels_answer_expected, axis=1)\n",
        "        elif scenario == \"idk_expected\":\n",
        "            results_df = results_df.reindex(self.labels_idk_expected, axis=1)\n",
        "\n",
        "        melted_df = results_df.reset_index().melt(id_vars='index', var_name='Status', value_name='Frequency')\n",
        "        sns.set_theme(style=\"whitegrid\", palette=\"icefire\")\n",
        "        g = sns.catplot(data=melted_df, x='Frequency', y='index', hue='Status', kind='bar', height=5, aspect=2)\n",
        "\n",
        "        # Annotating each bar\n",
        "        for p in g.ax.patches:\n",
        "            g.ax.annotate(f\"{p.get_width():.0f}%\", (p.get_width()+5, p.get_y() + p.get_height() / 2),\n",
        "                        textcoords=\"offset points\",\n",
        "                        xytext=(0, 0),\n",
        "                        ha='center', va='center')\n",
        "        plt.ylabel(\"Model\")\n",
        "        plt.xlabel(\"Percentage\")\n",
        "        plt.xlim(0, 100)\n",
        "        plt.tight_layout()\n",
        "        plt.title(scenario.replace(\"_\", \" \").title())\n",
        "        plt.show()\n",
        "\n",
        "\n",
        "# Compare the results by merging into one dataframe\n",
        "evaluator = Evaluator(df)"
      ]
    },
    {
      "cell_type": "code",
      "execution_count": null,
      "metadata": {
        "id": "zmxkxCjIS_Io"
      },
      "outputs": [],
      "source": [
        "# Optionally, save the results to a JSON file\n",
        "df.to_json(\"data/100_val_ft.json\", orient=\"records\", lines=True)\n",
        "df = pd.read_json(\"data/100_val_ft.json\", orient=\"records\", lines=True)"
      ]
    },
    {
      "cell_type": "code",
      "execution_count": null,
      "metadata": {
        "id": "xNGde2qCS_Io",
        "outputId": "322388b5-348b-482d-e15e-073a777c5fd2"
      },
      "outputs": [
        {
          "data": {
            "image/png": "[encoded data removed]",
            "text/plain": [
              "<Figure size 1203.38x500 with 1 Axes>"
            ]
          },
          "metadata": {},
          "output_type": "display_data"
        }
      ],
      "source": [
        "evaluator.plot_model_comparison([\"generated_answer\", \"ft_generated_answer\"], scenario=\"answer_expected\", nice_names=[\"Baseline\", \"Fine-Tuned\"])"
      ]
    },
    {
      "cell_type": "markdown",
      "metadata": {
        "id": "JbACuoKqS_Ip"
      },
      "source": [
        "Notice that the fine-tuned model skips questions more often -- and makes fewer mistakes. This is because the fine-tuned model is more conservative and skips questions when it's not sure."
      ]
    },
    {
      "cell_type": "markdown",
      "metadata": {
        "id": "_zBhGA9DS_Ip"
      },
      "source": [
        "Notice that the fine-tuned model has learnt to say \"I don't know\" a lot better than the prompt. Or, the model has gotten good at skipping questions.\n",
        "Observations\n",
        "\n",
        "1. The fine-tuned model is better at saying \"I don't know\"\n",
        "2. Hallucinations drop from 100% to 19% with fine-tuning\n",
        "3. Wrong answers drop from 11% to 6% with fine-tuning\n",
        "\n",
        "Correct answers also drop from 83% to 66% with fine-tuning - this is because the fine-tuned model is more conservative and says \"I don't know\" more often. This is a good thing because it's better to say \"I don't know\" than to give a wrong answer.\n",
        "\n",
        "That said, we want to improve the correctness of the model, even if that increases the hallucinations. We're looking for a model that is both correct and conservative, striking a balance between the two. We'll use Qdrant and Few-Shot Learning to achieve this."
      ]
    },
    {
      "cell_type": "markdown",
      "metadata": {
        "id": "4JsY8PEqS_Ip"
      },
      "source": [
        "## Fine-Tuning OpenAI Model with Qdrant\n",
        "\n",
        "So far, we've been using the OpenAI model to answer questions without using examples of the answer. The previous step made it work better on in-context examples, while this one helps it generalize to unseen data, and attempt to learn when to say \"I don't know\" and when to give an answer.\n",
        "\n",
        "This is where few-shot learning comes in!"
      ]
    },
    {
      "cell_type": "code",
      "execution_count": null,
      "metadata": {
        "id": "e1KALLYJS_Ip"
      },
      "outputs": [],
      "source": [
        "import os\n",
        "from qdrant_client import QdrantClient\n",
        "from qdrant_client.http import models\n",
        "from qdrant_client.http.models import PointStruct\n",
        "from qdrant_client.http.models import Distance, VectorParams"
      ]
    },
    {
      "cell_type": "code",
      "execution_count": null,
      "metadata": {
        "id": "72Kw--_KS_Iq"
      },
      "outputs": [],
      "source": [
        "qdrant_client = QdrantClient(\n",
        "    url=os.getenv(\"QDRANT_URL\"), api_key=os.getenv(\"QDRANT_API_KEY\"), timeout=6000, prefer_grpc=True\n",
        ")\n",
        "\n",
        "collection_name = \"squadv2-cookbook\"\n",
        "\n",
        "# # Create the collection, run this only once\n",
        "#qdrant_client.recreate_collection(\n",
        "#     collection_name=collection_name,\n",
        "#     vectors_config=VectorParams(size=384, distance=Distance.COSINE),\n",
        "# )"
      ]
    },
    {
      "cell_type": "code",
      "execution_count": null,
      "metadata": {
        "colab": {
          "referenced_widgets": [
            "4e42131d0e0b47fbb31c6061b7df608d"
          ]
        },
        "id": "SJ-j0P6WS_Iq",
        "outputId": "e6f2384c-e6de-4f49-dc7e-88ea79749a40"
      },
      "outputs": [
        {
          "name": "stderr",
          "output_type": "stream",
          "text": [
            "\u001b[32m2024-03-10 21:38:57.785\u001b[0m | \u001b[33m\u001b[1mWARNING \u001b[0m | \u001b[36mfastembed.embedding\u001b[0m:\u001b[36m<module>\u001b[0m:\u001b[36m7\u001b[0m - \u001b[33m\u001b[1mDefaultEmbedding, FlagEmbedding, JinaEmbedding are deprecated.Use from fastembed import TextEmbedding instead.\u001b[0m\n"
          ]
        },
        {
          "data": {
            "application/vnd.jupyter.widget-view+json": {
              "model_id": "4e42131d0e0b47fbb31c6061b7df608d",
              "version_major": 2,
              "version_minor": 0
            },
            "text/plain": [
              "Fetching 9 files:   0%|          | 0/9 [00:00<?, ?it/s]"
            ]
          },
          "metadata": {},
          "output_type": "display_data"
        }
      ],
      "source": [
        "from fastembed.embedding import DefaultEmbedding\n",
        "from typing import List\n",
        "import numpy as np\n",
        "import pandas as pd\n",
        "from tqdm.notebook import tqdm\n",
        "\n",
        "tqdm.pandas()\n",
        "\n",
        "embedding_model = DefaultEmbedding()"
      ]
    },
    {
      "cell_type": "markdown",
      "metadata": {
        "id": "9u6mxh-4S_Iq"
      },
      "source": [
        "Next, you'll embed the entire training set questions. You'll use the question to question similarity to find the most similar questions to the question we're looking for. This is a workflow which is used in RAG to leverage the OpenAI model ability of incontext learning with more examples. This is what we call Few Shot Learning here."
      ]
    },
    {
      "cell_type": "code",
      "execution_count": null,
      "metadata": {
        "colab": {
          "referenced_widgets": [
            "0a756cb495244888a3bc1e18b8ba882f",
            "7769a089c4074b549b7486ce973a2cc4"
          ]
        },
        "id": "G76uCv5XS_Iq",
        "outputId": "d77d4fd8-887f-4d73-f2cd-eb8d97513a45"
      },
      "outputs": [
        {
          "data": {
            "application/vnd.jupyter.widget-view+json": {
              "model_id": "0a756cb495244888a3bc1e18b8ba882f",
              "version_major": 2,
              "version_minor": 0
            },
            "text/plain": [
              "Generating embeddings:   0%|          | 0/130319 [00:00<?, ?it/s]"
            ]
          },
          "metadata": {},
          "output_type": "display_data"
        },
        {
          "data": {
            "application/vnd.jupyter.widget-view+json": {
              "model_id": "7769a089c4074b549b7486ce973a2cc4",
              "version_major": 2,
              "version_minor": 0
            },
            "text/plain": [
              "  0%|          | 0/130319 [00:00<?, ?it/s]"
            ]
          },
          "metadata": {},
          "output_type": "display_data"
        }
      ],
      "source": [
        "def generate_points_from_dataframe(df: pd.DataFrame) -> List[PointStruct]:\n",
        "    batch_size = 512\n",
        "    questions = df[\"question\"].tolist()\n",
        "    total_batches = len(questions) // batch_size + 1\n",
        "\n",
        "    pbar = tqdm(total=len(questions), desc=\"Generating embeddings\")\n",
        "\n",
        "    # Generate embeddings in batches to improve performance\n",
        "    embeddings = []\n",
        "    for i in range(total_batches):\n",
        "        start_idx = i * batch_size\n",
        "        end_idx = min((i + 1) * batch_size, len(questions))\n",
        "        batch = questions[start_idx:end_idx]\n",
        "\n",
        "        batch_embeddings = embedding_model.embed(batch, batch_size=batch_size)\n",
        "        embeddings.extend(batch_embeddings)\n",
        "        pbar.update(len(batch))\n",
        "\n",
        "    pbar.close()\n",
        "\n",
        "    # Convert embeddings to list of lists\n",
        "    embeddings_list = [embedding.tolist() for embedding in embeddings]\n",
        "\n",
        "    # Create a temporary DataFrame to hold the embeddings and existing DataFrame columns\n",
        "    temp_df = df.copy()\n",
        "    temp_df[\"embeddings\"] = embeddings_list\n",
        "    temp_df[\"id\"] = temp_df.index\n",
        "\n",
        "    # Generate PointStruct objects using DataFrame apply method\n",
        "    points = temp_df.progress_apply(\n",
        "        lambda row: PointStruct(\n",
        "            id=row[\"id\"],\n",
        "            vector=row[\"embeddings\"],\n",
        "            payload={\n",
        "                \"question\": row[\"question\"],\n",
        "                \"title\": row[\"title\"],\n",
        "                \"context\": row[\"context\"],\n",
        "                \"is_impossible\": row[\"is_impossible\"],\n",
        "                \"answers\": row[\"answers\"],\n",
        "            },\n",
        "        ),\n",
        "        axis=1,\n",
        "    ).tolist()\n",
        "\n",
        "    return points\n",
        "\n",
        "points = generate_points_from_dataframe(train_df)"
      ]
    },
    {
      "cell_type": "code",
      "execution_count": null,
      "metadata": {
        "id": "wKHMvZLoS_Ir",
        "outputId": "cb8cda27-cb29-403b-f8be-1d22869c7ff9"
      },
      "outputs": [
        {
          "name": "stdout",
          "output_type": "stream",
          "text": [
            "operation_id=0 status=<UpdateStatus.COMPLETED: 'completed'>\n"
          ]
        }
      ],
      "source": [
        "operation_info = qdrant_client.upsert(\n",
        "    collection_name=collection_name, wait=True, points=points[:20000]\n",
        ")\n",
        "print(operation_info)"
      ]
    },
    {
      "cell_type": "markdown",
      "metadata": {
        "id": "xKee7AKfS_Ir"
      },
      "source": [
        "Now that we've uploaded the embeddings to Qdrant, we can use Qdrant to find the most similar questions to the question we're looking for. We'll use the top 5 most similar questions to create a prompt that we can use to fine-tune the model. We'll then measure the performance of the fine-tuned model on the same validation set, but with few shot prompting!\n",
        "\n",
        "Our main function get_few_shot_prompt serves as the workhorse for generating prompts for few-shot learning. It does this by retrieving similar questions from Qdrant - a vector search engine, using an embeddings model. Here is the high-level workflow:\n",
        "\n",
        "1.  Retrieve similar questions from Qdrant where the answer is present in the context\n",
        "2. Retrieve similar questions from Qdrant where the answer is IMPOSSIBLE i.e. the expected answer is \"I don't know\" to find in the context\n",
        "3. Create a prompt using the retrieved questions\n",
        "4. Fine-tune the model using the prompt\n",
        "5. Evaluate the fine-tuned model on the validation set with the same prompting technique\n"
      ]
    },
    {
      "cell_type": "code",
      "execution_count": null,
      "metadata": {
        "id": "5rsZtdv8S_Ir"
      },
      "outputs": [],
      "source": [
        "def get_few_shot_prompt(row):\n",
        "\n",
        "    query, row_context = row[\"question\"], row[\"context\"]\n",
        "\n",
        "    embeddings = list(embedding_model.embed([query]))\n",
        "    query_embedding = embeddings[0].tolist()\n",
        "\n",
        "    num_of_qa_to_retrieve = 5\n",
        "\n",
        "    # Query Qdrant for similar questions that have an answer\n",
        "    q1 = qdrant_client.search(\n",
        "        collection_name=collection_name,\n",
        "        query_vector=query_embedding,\n",
        "        with_payload=True,\n",
        "        limit=num_of_qa_to_retrieve,\n",
        "        query_filter=models.Filter(\n",
        "            must=[\n",
        "                models.FieldCondition(\n",
        "                    key=\"is_impossible\",\n",
        "                    match=models.MatchValue(\n",
        "                        value=False,\n",
        "                    ),\n",
        "                ),\n",
        "            ],\n",
        "        )\n",
        "    )\n",
        "\n",
        "    # Query Qdrant for similar questions that are IMPOSSIBLE to answer\n",
        "    q2 = qdrant_client.search(\n",
        "        collection_name=collection_name,\n",
        "        query_vector=query_embedding,\n",
        "        query_filter=models.Filter(\n",
        "            must=[\n",
        "                models.FieldCondition(\n",
        "                    key=\"is_impossible\",\n",
        "                    match=models.MatchValue(\n",
        "                        value=True,\n",
        "                    ),\n",
        "                ),\n",
        "            ]\n",
        "        ),\n",
        "        with_payload=True,\n",
        "        limit=num_of_qa_to_retrieve,\n",
        "    )\n",
        "\n",
        "\n",
        "    instruction = \"\"\"Answer the following Question based on the Context only. Only answer from the Context. If you don't know the answer, say 'I don't know'.\\n\\n\"\"\"\n",
        "    # If there is a next best question, add it to the prompt\n",
        "\n",
        "    def q_to_prompt(q):\n",
        "        question, context = q.payload[\"question\"], q.payload[\"context\"]\n",
        "        answer = q.payload[\"answers\"][0] if len(q.payload[\"answers\"]) > 0 else \"I don't know\"\n",
        "        return [\n",
        "            {\n",
        "                \"role\": \"user\",\n",
        "                \"content\": f\"\"\"Question: {question}\\n\\nContext: {context}\\n\\nAnswer:\"\"\"\n",
        "            },\n",
        "            {\"role\": \"assistant\", \"content\": answer},\n",
        "        ]\n",
        "\n",
        "    rag_prompt = []\n",
        "\n",
        "    if len(q1) >= 1:\n",
        "        rag_prompt += q_to_prompt(q1[1])\n",
        "    if len(q2) >= 1:\n",
        "        rag_prompt += q_to_prompt(q2[1])\n",
        "    if len(q1) >= 1:\n",
        "        rag_prompt += q_to_prompt(q1[2])\n",
        "\n",
        "\n",
        "\n",
        "    rag_prompt += [\n",
        "        {\n",
        "            \"role\": \"user\",\n",
        "            \"content\": f\"\"\"Question: {query}\\n\\nContext: {row_context}\\n\\nAnswer:\"\"\"\n",
        "        },\n",
        "    ]\n",
        "\n",
        "    rag_prompt = [{\"role\": \"system\", \"content\": instruction}] + rag_prompt\n",
        "    return rag_prompt"
      ]
    },
    {
      "cell_type": "code",
      "execution_count": null,
      "metadata": {
        "colab": {
          "referenced_widgets": [
            "1b188908776b427c866752e12ea24659"
          ]
        },
        "id": "OzWvHiIuS_Is",
        "outputId": "28f3c164-801b-47fa-c9d2-ac9b0d69f46a"
      },
      "outputs": [
        {
          "data": {
            "application/vnd.jupyter.widget-view+json": {
              "model_id": "1b188908776b427c866752e12ea24659",
              "version_major": 2,
              "version_minor": 0
            },
            "text/plain": [
              "  0%|          | 0/100 [00:00<?, ?it/s]"
            ]
          },
          "metadata": {},
          "output_type": "display_data"
        }
      ],
      "source": [
        "train_sample[\"few_shot_prompt\"] = train_sample.progress_apply(get_few_shot_prompt, axis=1)"
      ]
    },
    {
      "cell_type": "code",
      "execution_count": null,
      "metadata": {
        "id": "Zufsl3O3S_Is",
        "outputId": "7fbed84a-662d-4ae1-c9d0-92991809ae8c"
      },
      "outputs": [
        {
          "data": {
            "text/plain": [
              "[{'role': 'system',\n",
              "  'content': \"Answer the following Question based on the Context only. Only answer from the Context. If you don't know the answer, say 'I don't know'.\\n\\n\"},\n",
              " {'role': 'user',\n",
              "  'content': 'Question: What language does the French word polytechnique come from?\\n\\nContext: The English term polytechnic appeared in the early 19th century, from the French École Polytechnique, an engineering school founded in 1794 in Paris. The French term comes from the Greek πολύ (polú or polý) meaning \"many\" and τεχνικός (tekhnikós) meaning \"arts\".\\n\\nAnswer:'},\n",
              " {'role': 'assistant', 'content': 'Greek'},\n",
              " {'role': 'user',\n",
              "  'content': 'Question: What became a low-seller comic in the French language?\\n\\nContext: In the 1960s, the term bandes dessinées (\"drawn strips\") came into wide use in French to denote the medium. Cartoonists began creating comics for mature audiences, and the term \"Ninth Art\"[e] was coined, as comics began to attract public and academic attention as an artform. A group including René Goscinny and Albert Uderzo founded the magazine Pilote in 1959 to give artists greater freedom over their work. Goscinny and Uderzo\\'s The Adventures of Asterix appeared in it and went on to become the best-selling French-language comics series. From 1960, the satirical and taboo-breaking Hara-Kiri defied censorship laws in the countercultural spirit that led to the May 1968 events.\\n\\nAnswer:'},\n",
              " {'role': 'assistant', 'content': \"I don't know\"},\n",
              " {'role': 'user',\n",
              "  'content': 'Question: What do the locals call The Vine?\\n\\nContext: It was the pub that first introduced the concept of the bar counter being used to serve the beer. Until that time beer establishments used to bring the beer out to the table or benches, as remains the practice in (for example) beer gardens and other drinking establishments in Germany. A bar might be provided for the manager to do paperwork while keeping an eye on his or her customers, but the casks of ale were kept in a separate taproom. When the first pubs were built, the main room was the public room with a large serving bar copied from the gin houses, the idea being to serve the maximum number of people in the shortest possible time. It became known as the public bar[citation needed]. The other, more private, rooms had no serving bar—they had the beer brought to them from the public bar. There are a number of pubs in the Midlands or the North which still retain this set up but these days the beer is fetched by the customer from the taproom or public bar. One of these is The Vine, known locally as The Bull and Bladder, in Brierley Hill near Birmingham, another the Cock at Broom, Bedfordshire a series of small rooms served drinks and food by waiting staff. In the Manchester district the public bar was known as the \"vault\", other rooms being the lounge and snug as usual elsewhere. By the early 1970s there was a tendency to change to one large drinking room and breweries were eager to invest in interior design and theming.\\n\\nAnswer:'},\n",
              " {'role': 'assistant', 'content': 'The Bull and Bladder'},\n",
              " {'role': 'user',\n",
              "  'content': \"Question: What is a cirque?\\n\\nContext: Glaciers form where the accumulation of snow and ice exceeds ablation. The area in which a glacier forms is called a cirque (corrie or cwm) - a typically armchair-shaped geological feature (such as a depression between mountains enclosed by arêtes) - which collects and compresses through gravity the snow which falls into it. This snow collects and is compacted by the weight of the snow falling above it forming névé. Further crushing of the individual snowflakes and squeezing the air from the snow turns it into 'glacial ice'. This glacial ice will fill the cirque until it 'overflows' through a geological weakness or vacancy, such as the gap between two mountains. When the mass of snow and ice is sufficiently thick, it begins to move due to a combination of surface slope, gravity and pressure. On steeper slopes, this can occur with as little as 15 m (50 ft) of snow-ice.\\n\\nAnswer:\"}]"
            ]
          },
          "execution_count": 41,
          "metadata": {},
          "output_type": "execute_result"
        }
      ],
      "source": [
        "train_sample[\"few_shot_prompt\"][0]"
      ]
    },
    {
      "cell_type": "markdown",
      "metadata": {
        "id": "lZ1iCvKmS_Is"
      },
      "source": [
        "### Fine tune the model using the prompt"
      ]
    },
    {
      "cell_type": "code",
      "execution_count": null,
      "metadata": {
        "colab": {
          "referenced_widgets": [
            "ad44b33fe69d4d47867a0b1192416489"
          ]
        },
        "id": "y2G4VFulS_Is",
        "outputId": "b3a64e17-aa7a-4552-b7c4-4bcf2fcf6f47"
      },
      "outputs": [
        {
          "data": {
            "application/vnd.jupyter.widget-view+json": {
              "model_id": "ad44b33fe69d4d47867a0b1192416489",
              "version_major": 2,
              "version_minor": 0
            },
            "text/plain": [
              "  0%|          | 0/100 [00:00<?, ?it/s]"
            ]
          },
          "metadata": {},
          "output_type": "display_data"
        }
      ],
      "source": [
        "# Prepare the OpenAI File format i.e. JSONL from train_sample\n",
        "def dataframe_to_jsonl(df):\n",
        "    def create_jsonl_entry(row):\n",
        "        messages = row[\"few_shot_prompt\"]\n",
        "        return json.dumps({\"messages\": messages})\n",
        "\n",
        "    jsonl_output = df.progress_apply(create_jsonl_entry, axis=1)\n",
        "    return \"\\n\".join(jsonl_output)\n",
        "\n",
        "with open(\"data/100_train_few_shot.jsonl\", \"w\") as f:\n",
        "    f.write(dataframe_to_jsonl(train_sample))"
      ]
    },
    {
      "cell_type": "code",
      "execution_count": null,
      "metadata": {
        "id": "5-jlL-LhS_It",
        "outputId": "3f283a1e-b5ab-4a08-f846-8cf8f20509ab"
      },
      "outputs": [
        {
          "name": "stdout",
          "output_type": "stream",
          "text": [
            "Job Status:  running\n",
            "Job Status:  running\n",
            "Job Status:  running\n",
            "Job Status:  running\n",
            "Job Status:  running\n",
            "Job Status:  running\n",
            "Job Status:  running\n",
            "Job Status:  running\n",
            "Job Status:  running\n",
            "Job Status:  running\n",
            "Job Status:  running\n",
            "Job Status:  running\n",
            "Job Status:  running\n",
            "Job Status:  running\n",
            "Job Status:  running\n",
            "Job Status:  running\n",
            "Job Status:  running\n",
            "Job Status:  running\n",
            "Job Status:  running\n",
            "Job Status:  running\n",
            "Job Status:  running\n",
            "Job Status:  succeeded\n"
          ]
        },
        {
          "data": {
            "text/plain": [
              "'ft:gpt-3.5-turbo-0125:arnault:trnfewshot20240315:91L3XE0s'"
            ]
          },
          "execution_count": 43,
          "metadata": {},
          "output_type": "execute_result"
        }
      ],
      "source": [
        "fine_tuner = OpenAIFineTuner(\n",
        "        training_file_path=\"data/100_train_few_shot.jsonl\",\n",
        "        model_name=\"gpt-3.5-turbo\",\n",
        "        suffix=\"trnfewshot20240315\"\n",
        "    )\n",
        "\n",
        "model_id = fine_tuner.fine_tune_model()\n",
        "model_id#'ft:gpt-3.5-turbo-0125:arnault:trnfewshot20240315:91L3XE0s'"
      ]
    },
    {
      "cell_type": "code",
      "execution_count": null,
      "metadata": {
        "id": "pr3KhA6XS_It",
        "outputId": "fcf8d01b-a6da-4723-fe1e-ee97ee7c03ba"
      },
      "outputs": [
        {
          "name": "stdout",
          "output_type": "stream",
          "text": [
            "Correct Answer: Rajasthan\n",
            "Model Answer:\n",
            "ChatCompletionMessage(content='Rajasthan', role='assistant', function_call=None, tool_calls=None)\n"
          ]
        }
      ],
      "source": [
        "# Let's try this out\n",
        "completion = client.chat.completions.create(\n",
        "    model=model_id,\n",
        "    messages=[\n",
        "        {\"role\": \"system\", \"content\": \"You are a helpful assistant.\"},\n",
        "        {\n",
        "            \"role\": \"user\",\n",
        "            \"content\": \"Can you answer the following question based on the given context? If not, say, I don't know:\\n\\nQuestion: What is the capital of France?\\n\\nContext: The capital of Mars is Gaia. Answer:\",\n",
        "        },\n",
        "        {\n",
        "            \"role\": \"assistant\",\n",
        "            \"content\": \"I don't know\",\n",
        "        },\n",
        "        {\n",
        "            \"role\": \"user\",\n",
        "            \"content\": \"Question: Where did Maharana Pratap die?\\n\\nContext: Rana Pratap's defiance of the mighty Mughal empire, almost alone and unaided by the other Rajput states, constitute a glorious saga of Rajput valour and the spirit of self sacrifice for cherished principles. Rana Pratap's methods of guerrilla warfare was later elaborated further by Malik Ambar, the Deccani general, and by Emperor Shivaji.\\nAnswer:\",\n",
        "        },\n",
        "        {\n",
        "            \"role\": \"assistant\",\n",
        "            \"content\": \"I don't know\",\n",
        "        },\n",
        "        {\n",
        "            \"role\": \"user\",\n",
        "            \"content\": \"Question: Who did Rana Pratap fight against?\\n\\nContext: In stark contrast to other Rajput rulers who accommodated and formed alliances with the various Muslim dynasties in the subcontinent, by the time Pratap ascended to the throne, Mewar was going through a long standing conflict with the Mughals which started with the defeat of his grandfather Rana Sanga in the Battle of Khanwa in 1527 and continued with the defeat of his father Udai Singh II in Siege of Chittorgarh in 1568. Pratap Singh, gained distinction for his refusal to form any political alliance with the Mughal Empire and his resistance to Muslim domination. The conflicts between Pratap Singh and Akbar led to the Battle of Haldighati. Answer:\",\n",
        "        },\n",
        "        {\n",
        "            \"role\": \"assistant\",\n",
        "            \"content\": \"Akbar\",\n",
        "        },\n",
        "        {\n",
        "            \"role\": \"user\",\n",
        "            \"content\": \"Question: Which state is Chittorgarh in?\\n\\nContext: Chittorgarh, located in the southern part of the state of Rajasthan, 233 km (144.8 mi) from Ajmer, midway between Delhi and Mumbai on the National Highway 8 (India) in the road network of Golden Quadrilateral. Chittorgarh is situated where National Highways No. 76 & 79 intersect. Answer:\",\n",
        "        },\n",
        "    ],\n",
        ")\n",
        "print(\"Correct Answer: Rajasthan\\nModel Answer:\")\n",
        "print(completion.choices[0].message)"
      ]
    },
    {
      "cell_type": "code",
      "execution_count": null,
      "metadata": {
        "id": "8YuGnGTTS_It"
      },
      "outputs": [],
      "source": [
        "df[\"ft_generated_answer_few_shot\"] = df.progress_apply(answer_question, model=model_id, prompt_func=get_few_shot_prompt, axis=1)\n",
        "df.to_json(\"data/100_val_ft_few_shot.json\", orient=\"records\", lines=True)"
      ]
    },
    {
      "cell_type": "code",
      "execution_count": null,
      "metadata": {
        "id": "kZxdTIAVS_It",
        "outputId": "ec9de811-7de4-43a7-f65e-bbdea6669c01"
      },
      "outputs": [
        {
          "data": {
            "image/png": "[encoded data removed]",
            "text/plain": [
              "<Figure size 1203.38x500 with 1 Axes>"
            ]
          },
          "metadata": {},
          "output_type": "display_data"
        }
      ],
      "source": [
        "evaluator = Evaluator(df)\n",
        "evaluator.plot_model_comparison([\"generated_answer\", \"ft_generated_answer\", \"ft_generated_answer_few_shot\"], scenario=\"answer_expected\", nice_names=[\"Baseline\", \"Fine-Tuned\", \"Fine-Tuned with Few-Shot\"])"
      ]
    },
    {
      "cell_type": "markdown",
      "metadata": {
        "id": "ckQZETsWS_Iu"
      },
      "source": [
        "This is quite amazing -- we're able to get the best of both worlds! We're able to get the model to be both correct and conservative:\n",
        "\n",
        "1. The model is correct 79% of the time better than with fine-tuned model only\n",
        "2. The model gives the wrong answer 17% of the time\n",
        "\n",
        "Next, let's look at the hallucinations. We want to reduce the hallucinations, but not at the cost of correctness. We want to strike a balance between the two."
      ]
    },
    {
      "cell_type": "code",
      "execution_count": null,
      "metadata": {
        "id": "lXoLjSkjS_Iu",
        "outputId": "e5cb0f62-0020-4e5a-e57b-a6ad8aa452be"
      },
      "outputs": [
        {
          "data": {
            "image/png": "[encoded data removed]",
            "text/plain": [
              "<Figure size 1158.38x500 with 1 Axes>"
            ]
          },
          "metadata": {},
          "output_type": "display_data"
        }
      ],
      "source": [
        "evaluator.plot_model_comparison([\"generated_answer\", \"ft_generated_answer\", \"ft_generated_answer_few_shot\"], scenario=\"idk_expected\", nice_names=[\"Baseline\", \"Fine-Tuned\", \"Fine-Tuned with Few-Shot\"])"
      ]
    },
    {
      "cell_type": "markdown",
      "metadata": {
        "id": "SD1Ea7PXS_Iu"
      },
      "source": [
        "Few Shot Fine-Tuning with Qdrant is a great way to control and steer the performance of your RAG system. Here, we made the model less conservative compared to zero shot and more confident by using Qdrant to find similar questions.\n",
        "\n",
        "You can also use Qdrant to make the model more conservative. We did this by giving examples of questions where the answer is not present in the context.\n",
        "This is biasing the model to say \"I don't know\" more often.\n",
        "\n",
        "Similarly, one can also use Qdrant to make the model more confident by giving examples of questions where the answer is present in the context. This biases the model to give an answer more often. The trade-off is that the model will also hallucinate more often.\n",
        "\n",
        "You can make this trade off by adjusting the training data: distribution of questions and examples, as well as the kind and number of examples you retrieve from Qdrant."
      ]
    }
  ],
  "metadata": {
    "colab": {
      "provenance": []
    },
    "kernelspec": {
      "display_name": "bse",
      "language": "python",
      "name": "python3"
    },
    "language_info": {
      "codemirror_mode": {
        "name": "ipython",
        "version": 3
      },
      "file_extension": ".py",
      "mimetype": "text/x-python",
      "name": "python",
      "nbconvert_exporter": "python",
      "pygments_lexer": "ipython3",
      "version": "3.12.2"
    }
  },
  "nbformat": 4,
  "nbformat_minor": 0
}
